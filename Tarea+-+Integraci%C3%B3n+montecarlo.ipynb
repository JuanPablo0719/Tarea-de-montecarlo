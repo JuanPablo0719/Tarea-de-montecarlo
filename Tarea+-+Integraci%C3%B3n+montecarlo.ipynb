{
 "cells": [
  {
   "cell_type": "markdown",
   "metadata": {},
   "source": [
    "# TAREA"
   ]
  },
  {
   "cell_type": "markdown",
   "metadata": {},
   "source": [
    "Juan Pablo Dominguez Rodriguez 735196\n"
   ]
  },
  {
   "cell_type": "markdown",
   "metadata": {},
   "source": [
    "## Integración Montecarlo"
   ]
  },
  {
   "cell_type": "markdown",
   "metadata": {},
   "source": [
    "1. Realizar las siguientes integrales. Poner los resultados en una tabla cuyas filas correspondan a la cantidad de términos utilizados en la aproximación (usar 10, 100, 1000, 10000 y 100000 términos) y cuyas columnas correspondan a las funciones.\n",
    "    + $\\int_{1}^{3} e^{x}\\log(x)\\text{d}x$.\n",
    "   "
   ]
  },
  {
   "cell_type": "markdown",
   "metadata": {},
   "source": [
    "# Ejercicio de la primera integral "
   ]
  },
  {
   "cell_type": "code",
   "execution_count": 2,
   "metadata": {},
   "outputs": [
    {
     "name": "stdout",
     "output_type": "stream",
     "text": [
      "El valor de la integral es: 14.027502934041546\n"
     ]
    }
   ],
   "source": [
    "import numpy as np\n",
    "from scipy.integrate import quad\n",
    "\n",
    "# Definir la función a integrar\n",
    "def f(x):\n",
    "    return np.exp(x) * np.log(x)\n",
    "\n",
    "# Definir los límites de integración\n",
    "a = 1\n",
    "b = 3\n",
    "\n",
    "# Calcular la integral\n",
    "integral, error = quad(f, a, b)\n",
    "\n",
    "# Imprimir el resultado\n",
    "print(\"El valor de la integral es:\", integral)"
   ]
  },
  {
   "cell_type": "code",
   "execution_count": 25,
   "metadata": {},
   "outputs": [
    {
     "data": {
      "text/plain": [
       "14.105382439191214"
      ]
     },
     "execution_count": 25,
     "metadata": {},
     "output_type": "execute_result"
    }
   ],
   "source": [
    "import numpy as np\n",
    "\n",
    "\n",
    "def f(x) : \n",
    "    return np.exp(x) * np.log(x)\n",
    "N = 1000\n",
    "\n",
    "np.random.seed(3)\n",
    "\n",
    "u = np.random.uniform(1, 3, N)\n",
    "np.mean(f(u))*(3-1)"
   ]
  },
  {
   "cell_type": "code",
   "execution_count": 9,
   "metadata": {},
   "outputs": [
    {
     "data": {
      "text/html": [
       "<div>\n",
       "<style scoped>\n",
       "    .dataframe tbody tr th:only-of-type {\n",
       "        vertical-align: middle;\n",
       "    }\n",
       "\n",
       "    .dataframe tbody tr th {\n",
       "        vertical-align: top;\n",
       "    }\n",
       "\n",
       "    .dataframe thead th {\n",
       "        text-align: right;\n",
       "    }\n",
       "</style>\n",
       "<table border=\"1\" class=\"dataframe\">\n",
       "  <thead>\n",
       "    <tr style=\"text-align: right;\">\n",
       "      <th></th>\n",
       "      <th>Aproximación</th>\n",
       "      <th>Error</th>\n",
       "    </tr>\n",
       "  </thead>\n",
       "  <tbody>\n",
       "    <tr>\n",
       "      <th>10.0</th>\n",
       "      <td>NaN</td>\n",
       "      <td>NaN</td>\n",
       "    </tr>\n",
       "    <tr>\n",
       "      <th>100.0</th>\n",
       "      <td>NaN</td>\n",
       "      <td>NaN</td>\n",
       "    </tr>\n",
       "    <tr>\n",
       "      <th>1000.0</th>\n",
       "      <td>NaN</td>\n",
       "      <td>NaN</td>\n",
       "    </tr>\n",
       "    <tr>\n",
       "      <th>10000.0</th>\n",
       "      <td>NaN</td>\n",
       "      <td>NaN</td>\n",
       "    </tr>\n",
       "    <tr>\n",
       "      <th>100000.0</th>\n",
       "      <td>NaN</td>\n",
       "      <td>NaN</td>\n",
       "    </tr>\n",
       "    <tr>\n",
       "      <th>1000000.0</th>\n",
       "      <td>NaN</td>\n",
       "      <td>NaN</td>\n",
       "    </tr>\n",
       "    <tr>\n",
       "      <th>10000000.0</th>\n",
       "      <td>NaN</td>\n",
       "      <td>NaN</td>\n",
       "    </tr>\n",
       "  </tbody>\n",
       "</table>\n",
       "</div>"
      ],
      "text/plain": [
       "           Aproximación Error\n",
       "10.0                NaN   NaN\n",
       "100.0               NaN   NaN\n",
       "1000.0              NaN   NaN\n",
       "10000.0             NaN   NaN\n",
       "100000.0            NaN   NaN\n",
       "1000000.0           NaN   NaN\n",
       "10000000.0          NaN   NaN"
      ]
     },
     "execution_count": 9,
     "metadata": {},
     "output_type": "execute_result"
    }
   ],
   "source": [
    "import pandas as pd\n",
    "\n",
    "N = np.logspace(1, 7, 7)\n",
    "\n",
    "table = pd.DataFrame(columns= [\"Aproximación\", \"Error\"], index=N)\n",
    "table"
   ]
  },
  {
   "cell_type": "code",
   "execution_count": 10,
   "metadata": {},
   "outputs": [
    {
     "data": {
      "text/plain": [
       "array([1.e+01, 1.e+02, 1.e+03, 1.e+04, 1.e+05, 1.e+06, 1.e+07])"
      ]
     },
     "execution_count": 10,
     "metadata": {},
     "output_type": "execute_result"
    }
   ],
   "source": [
    "def montecarlo(f, N, a, b) :\n",
    "    u = np.random.uniform(a, b, N)\n",
    "    return np.mean(f(u)*(b-a))\n",
    "\n",
    "N"
   ]
  },
  {
   "cell_type": "code",
   "execution_count": 11,
   "metadata": {},
   "outputs": [
    {
     "data": {
      "text/html": [
       "<div>\n",
       "<style scoped>\n",
       "    .dataframe tbody tr th:only-of-type {\n",
       "        vertical-align: middle;\n",
       "    }\n",
       "\n",
       "    .dataframe tbody tr th {\n",
       "        vertical-align: top;\n",
       "    }\n",
       "\n",
       "    .dataframe thead th {\n",
       "        text-align: right;\n",
       "    }\n",
       "</style>\n",
       "<table border=\"1\" class=\"dataframe\">\n",
       "  <thead>\n",
       "    <tr style=\"text-align: right;\">\n",
       "      <th></th>\n",
       "      <th>Aproximación</th>\n",
       "      <th>Error</th>\n",
       "    </tr>\n",
       "  </thead>\n",
       "  <tbody>\n",
       "    <tr>\n",
       "      <th>10.0</th>\n",
       "      <td>15.167966</td>\n",
       "      <td>-1.140466</td>\n",
       "    </tr>\n",
       "    <tr>\n",
       "      <th>100.0</th>\n",
       "      <td>12.928357</td>\n",
       "      <td>1.099143</td>\n",
       "    </tr>\n",
       "    <tr>\n",
       "      <th>1000.0</th>\n",
       "      <td>14.647678</td>\n",
       "      <td>-0.620178</td>\n",
       "    </tr>\n",
       "    <tr>\n",
       "      <th>10000.0</th>\n",
       "      <td>13.97655</td>\n",
       "      <td>0.05095</td>\n",
       "    </tr>\n",
       "    <tr>\n",
       "      <th>100000.0</th>\n",
       "      <td>13.996397</td>\n",
       "      <td>0.031103</td>\n",
       "    </tr>\n",
       "    <tr>\n",
       "      <th>1000000.0</th>\n",
       "      <td>14.028079</td>\n",
       "      <td>-0.000579</td>\n",
       "    </tr>\n",
       "    <tr>\n",
       "      <th>10000000.0</th>\n",
       "      <td>14.027685</td>\n",
       "      <td>-0.000185</td>\n",
       "    </tr>\n",
       "  </tbody>\n",
       "</table>\n",
       "</div>"
      ],
      "text/plain": [
       "           Aproximación     Error\n",
       "10.0          15.167966 -1.140466\n",
       "100.0         12.928357  1.099143\n",
       "1000.0        14.647678 -0.620178\n",
       "10000.0        13.97655   0.05095\n",
       "100000.0      13.996397  0.031103\n",
       "1000000.0     14.028079 -0.000579\n",
       "10000000.0    14.027685 -0.000185"
      ]
     },
     "execution_count": 11,
     "metadata": {},
     "output_type": "execute_result"
    }
   ],
   "source": [
    "import numpy as np\n",
    "\n",
    "a = 1\n",
    "b = 3\n",
    "def f(x) : \n",
    "    return np.exp(x) * np.log(x)\n",
    "for i in N : \n",
    "    aprox =  montecarlo(f, int(i), a, b)\n",
    "    table.loc[i, \"Aproximación\"] = aprox\n",
    "    table.loc[i, \"Error\"] = (14.0275) - aprox\n",
    "\n",
    "table"
   ]
  },
  {
   "cell_type": "markdown",
   "metadata": {},
   "source": [
    "### En este ejercicio pudimos apreciar que no necesariamente entre mas puntos se vuelve mas exacto el resultado de la integral, ya que al principio evaluamos la integral y nos dio el valor exacto. Por el otro lado en la tecnica de utilizar muchos puntos solo se puede aproximar pero es muy complicado tener el valor exacto de la integral "
   ]
  },
  {
   "cell_type": "markdown",
   "metadata": {},
   "source": []
  },
  {
   "cell_type": "markdown",
   "metadata": {},
   "source": [
    "# Ejercicio de la segunda integral "
   ]
  },
  {
   "cell_type": "markdown",
   "metadata": {},
   "source": [
    "+ $\\int_1^3 \\sin(x)\\ln(x) \\text{d}x$"
   ]
  },
  {
   "cell_type": "code",
   "execution_count": 26,
   "metadata": {},
   "outputs": [
    {
     "name": "stdout",
     "output_type": "stream",
     "text": [
      "El valor de la integral es: 0.8698437855615033\n"
     ]
    }
   ],
   "source": [
    "import numpy as np\n",
    "from scipy.integrate import quad\n",
    "\n",
    "# Definir la función a integrar\n",
    "def f(x):\n",
    "    return np.sin(x) * np.log(x)\n",
    "\n",
    "# Definir los límites de integración\n",
    "a = 1\n",
    "b = 3\n",
    "\n",
    "# Calcular la integral\n",
    "integral, error = quad(f, a, b)\n",
    "\n",
    "# Imprimir el resultado\n",
    "print(\"El valor de la integral es:\", integral)"
   ]
  },
  {
   "cell_type": "code",
   "execution_count": 28,
   "metadata": {},
   "outputs": [
    {
     "data": {
      "text/plain": [
       "0.869172984793055"
      ]
     },
     "execution_count": 28,
     "metadata": {},
     "output_type": "execute_result"
    }
   ],
   "source": [
    "import numpy as np\n",
    "\n",
    "\n",
    "def f(x) : \n",
    "    return np.sin(x) * np.log(x)\n",
    "N = 10000\n",
    "\n",
    "np.random.seed(3)\n",
    "\n",
    "u = np.random.uniform(1, 3, N)\n",
    "np.mean(f(u))*(3-1)"
   ]
  },
  {
   "cell_type": "code",
   "execution_count": 29,
   "metadata": {},
   "outputs": [
    {
     "data": {
      "text/html": [
       "<div>\n",
       "<style scoped>\n",
       "    .dataframe tbody tr th:only-of-type {\n",
       "        vertical-align: middle;\n",
       "    }\n",
       "\n",
       "    .dataframe tbody tr th {\n",
       "        vertical-align: top;\n",
       "    }\n",
       "\n",
       "    .dataframe thead th {\n",
       "        text-align: right;\n",
       "    }\n",
       "</style>\n",
       "<table border=\"1\" class=\"dataframe\">\n",
       "  <thead>\n",
       "    <tr style=\"text-align: right;\">\n",
       "      <th></th>\n",
       "      <th>Aproximación</th>\n",
       "      <th>Error</th>\n",
       "    </tr>\n",
       "  </thead>\n",
       "  <tbody>\n",
       "    <tr>\n",
       "      <th>10.0</th>\n",
       "      <td>NaN</td>\n",
       "      <td>NaN</td>\n",
       "    </tr>\n",
       "    <tr>\n",
       "      <th>100.0</th>\n",
       "      <td>NaN</td>\n",
       "      <td>NaN</td>\n",
       "    </tr>\n",
       "    <tr>\n",
       "      <th>1000.0</th>\n",
       "      <td>NaN</td>\n",
       "      <td>NaN</td>\n",
       "    </tr>\n",
       "    <tr>\n",
       "      <th>10000.0</th>\n",
       "      <td>NaN</td>\n",
       "      <td>NaN</td>\n",
       "    </tr>\n",
       "    <tr>\n",
       "      <th>100000.0</th>\n",
       "      <td>NaN</td>\n",
       "      <td>NaN</td>\n",
       "    </tr>\n",
       "    <tr>\n",
       "      <th>1000000.0</th>\n",
       "      <td>NaN</td>\n",
       "      <td>NaN</td>\n",
       "    </tr>\n",
       "    <tr>\n",
       "      <th>10000000.0</th>\n",
       "      <td>NaN</td>\n",
       "      <td>NaN</td>\n",
       "    </tr>\n",
       "  </tbody>\n",
       "</table>\n",
       "</div>"
      ],
      "text/plain": [
       "           Aproximación Error\n",
       "10.0                NaN   NaN\n",
       "100.0               NaN   NaN\n",
       "1000.0              NaN   NaN\n",
       "10000.0             NaN   NaN\n",
       "100000.0            NaN   NaN\n",
       "1000000.0           NaN   NaN\n",
       "10000000.0          NaN   NaN"
      ]
     },
     "execution_count": 29,
     "metadata": {},
     "output_type": "execute_result"
    }
   ],
   "source": [
    "import pandas as pd\n",
    "\n",
    "N = np.logspace(1, 7, 7)\n",
    "\n",
    "table = pd.DataFrame(columns= [\"Aproximación\", \"Error\"], index=N)\n",
    "table"
   ]
  },
  {
   "cell_type": "code",
   "execution_count": 30,
   "metadata": {},
   "outputs": [
    {
     "data": {
      "text/plain": [
       "array([1.e+01, 1.e+02, 1.e+03, 1.e+04, 1.e+05, 1.e+06, 1.e+07])"
      ]
     },
     "execution_count": 30,
     "metadata": {},
     "output_type": "execute_result"
    }
   ],
   "source": [
    "def montecarlo(f, N, a, b) :\n",
    "    u = np.random.uniform(a, b, N)\n",
    "    return np.mean(f(u)*(b-a))\n",
    "\n",
    "N"
   ]
  },
  {
   "cell_type": "code",
   "execution_count": 32,
   "metadata": {},
   "outputs": [
    {
     "data": {
      "text/html": [
       "<div>\n",
       "<style scoped>\n",
       "    .dataframe tbody tr th:only-of-type {\n",
       "        vertical-align: middle;\n",
       "    }\n",
       "\n",
       "    .dataframe tbody tr th {\n",
       "        vertical-align: top;\n",
       "    }\n",
       "\n",
       "    .dataframe thead th {\n",
       "        text-align: right;\n",
       "    }\n",
       "</style>\n",
       "<table border=\"1\" class=\"dataframe\">\n",
       "  <thead>\n",
       "    <tr style=\"text-align: right;\">\n",
       "      <th></th>\n",
       "      <th>Aproximación</th>\n",
       "      <th>Error</th>\n",
       "    </tr>\n",
       "  </thead>\n",
       "  <tbody>\n",
       "    <tr>\n",
       "      <th>10.0</th>\n",
       "      <td>0.854722</td>\n",
       "      <td>0.014451</td>\n",
       "    </tr>\n",
       "    <tr>\n",
       "      <th>100.0</th>\n",
       "      <td>0.876349</td>\n",
       "      <td>-0.007176</td>\n",
       "    </tr>\n",
       "    <tr>\n",
       "      <th>1000.0</th>\n",
       "      <td>0.856769</td>\n",
       "      <td>0.012404</td>\n",
       "    </tr>\n",
       "    <tr>\n",
       "      <th>10000.0</th>\n",
       "      <td>0.864116</td>\n",
       "      <td>0.005057</td>\n",
       "    </tr>\n",
       "    <tr>\n",
       "      <th>100000.0</th>\n",
       "      <td>0.869019</td>\n",
       "      <td>0.000154</td>\n",
       "    </tr>\n",
       "    <tr>\n",
       "      <th>1000000.0</th>\n",
       "      <td>0.870033</td>\n",
       "      <td>-0.00086</td>\n",
       "    </tr>\n",
       "    <tr>\n",
       "      <th>10000000.0</th>\n",
       "      <td>0.869821</td>\n",
       "      <td>-0.000648</td>\n",
       "    </tr>\n",
       "  </tbody>\n",
       "</table>\n",
       "</div>"
      ],
      "text/plain": [
       "           Aproximación     Error\n",
       "10.0           0.854722  0.014451\n",
       "100.0          0.876349 -0.007176\n",
       "1000.0         0.856769  0.012404\n",
       "10000.0        0.864116  0.005057\n",
       "100000.0       0.869019  0.000154\n",
       "1000000.0      0.870033  -0.00086\n",
       "10000000.0     0.869821 -0.000648"
      ]
     },
     "execution_count": 32,
     "metadata": {},
     "output_type": "execute_result"
    }
   ],
   "source": [
    "import numpy as np\n",
    "\n",
    "a = 1\n",
    "b = 3\n",
    "def f(x) : \n",
    "    return np.sin(x) * np.log(x)\n",
    "for i in N : \n",
    "    aprox =  montecarlo(f, int(i), a, b)\n",
    "    table.loc[i, \"Aproximación\"] = aprox\n",
    "    table.loc[i, \"Error\"] = (0.86917298) - aprox\n",
    "\n",
    "table"
   ]
  },
  {
   "cell_type": "markdown",
   "metadata": {},
   "source": [
    "### en este ejercicio evaluamos la integral de la misma manera que en el pasado y llegamos a la misma conclusion, la tecnica de puntos es mejor para obtener el valor del resultado de una manera mas sensilla aunque no obtendremos el valor exacto."
   ]
  },
  {
   "cell_type": "markdown",
   "metadata": {},
   "source": [
    "2. Aproximar el área de la región descrita por\n",
    "\n",
    "$$x^2+2y^2\\leq-2x+8y-7$$\n",
    "\n",
    "Poner los resultados en una tabla cuyas filas correspondan a la cantidad de términos utilizados en la aproximación (usar 10, 100, 1000, 10000 y 100000 términos) y en las columnas el valor de aproximación y el error relativo.\n",
    "\n",
    "Definir unos límites adecuados $a_1$, $b_1$, $a_2$ y $b_2$, para la región $R=\\left[a_1,b_1\\right]\\times\\left[a_2,b_2\\right]$"
   ]
  },
  {
   "cell_type": "code",
   "execution_count": null,
   "metadata": {},
   "outputs": [],
   "source": [
    "# x**2 + 2*y**2 <= -2x +8y -7\n",
    "\n",
    "x = np.linspace(-1, 1, 1000)\n",
    "\n",
    "def circuloS(x) :\n",
    "    return np.sqrt(1 - x**2)\n",
    "\n",
    "\n",
    "def circuloI(x) :\n",
    "    return - np.sqrt(1 - x**2)\n",
    "\n",
    "plt.figure(figsize=(5, 5))\n",
    "plt.plot(x, circuloS(x), \"k\")\n",
    "plt.plot(x, circuloI(x), \"k\")\n",
    "plt.fill_between(x, circuloS(x), circuloI(x))\n",
    "plt.text(0, 0, \"$\\mathcal{D}$\", fontsize=20)\n",
    "plt.text(0.8, 0.8, \"$\\mathcal{R}$\", fontsize=20)\n",
    "plt.grid()\n",
    "\n",
    "\n",
    "n = 5000\n",
    "x = np.random.uniform(-1, 1, n)\n",
    "y = np.random.uniform(-1, 1 , n)\n",
    "\n",
    "\n",
    "\n",
    "plt.scatter(x, y, marker = \"x\", c = \"r\")"
   ]
  },
  {
   "cell_type": "code",
   "execution_count": null,
   "metadata": {},
   "outputs": [],
   "source": []
  },
  {
   "cell_type": "code",
   "execution_count": null,
   "metadata": {},
   "outputs": [],
   "source": []
  },
  {
   "cell_type": "markdown",
   "metadata": {},
   "source": [
    "3. Describe 3 casos de uso de integración Montecarlo en tu ingeniería."
   ]
  },
  {
   "cell_type": "markdown",
   "metadata": {},
   "source": [
    "*Valoración de opciones:* La valoración de opciones es uno de los problemas más importantes en la ingeniería financiera. Las opciones son contratos financieros que otorgan al comprador el derecho, pero no la obligación, de comprar o vender un activo subyacente a un precio determinado en una fecha futura. La valoración de opciones implica calcular el valor justo de la opción en función del precio actual del activo subyacente, el precio de ejercicio, la volatilidad del precio y el tiempo restante hasta la fecha de vencimiento. La integración Montecarlo se puede utilizar para simular el comportamiento del precio del activo subyacente y estimar el valor de la opción mediante la técnica conocida como simulación de Monte Carlo de opciones."
   ]
  },
  {
   "cell_type": "markdown",
   "metadata": {},
   "source": [
    "*Evaluación de riesgos de mercado:* La gestión de riesgos es una parte integral de la ingeniería financiera y se refiere a la identificación, evaluación y control de los riesgos financieros que enfrentan las empresas y los inversores. La evaluación de riesgos de mercado implica medir el riesgo de las inversiones en función de las fluctuaciones del mercado, tales como cambios en los precios de los activos, tipos de interés y tipos de cambio. La integración Montecarlo se puede utilizar para simular el comportamiento de los precios de los activos y las fluctuaciones de las tasas de interés y tipos de cambio, y evaluar el impacto de estos factores en la cartera de inversión."
   ]
  },
  {
   "cell_type": "markdown",
   "metadata": {},
   "source": [
    "*Simulación de escenarios:* La simulación de escenarios es una técnica utilizada para modelar el comportamiento futuro de una inversión o cartera de inversión en diferentes situaciones macroeconómicas. La integración Montecarlo se puede utilizar para simular múltiples escenarios macroeconómicos y evaluar el rendimiento de la inversión en cada uno de ellos. Esto puede ayudar a los inversores a tomar decisiones informadas y a desarrollar estrategias de inversión adecuadas para diferentes situaciones económicas."
   ]
  }
 ],
 "metadata": {
  "kernelspec": {
   "display_name": "Python 3 (ipykernel)",
   "language": "python",
   "name": "python3"
  },
  "language_info": {
   "codemirror_mode": {
    "name": "ipython",
    "version": 3
   },
   "file_extension": ".py",
   "mimetype": "text/x-python",
   "name": "python",
   "nbconvert_exporter": "python",
   "pygments_lexer": "ipython3",
   "version": "3.9.13"
  }
 },
 "nbformat": 4,
 "nbformat_minor": 2
}
